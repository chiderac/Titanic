{
 "cells": [
  {
   "cell_type": "markdown",
   "metadata": {},
   "source": [
    "Installation\n",
    "\n",
    "Assuming python is already installed \n",
    "Run on command prompt (all using pip, if conda use different instructions)\n",
    "# note: exclude the package already installed\n",
    "for installing numpy, scipy, matplotlib, ipyhton, juoyter, pandas, sympy, nose\n",
    "(>>) python -m pip install --user numpy scipy matplotlib ipyhton jupyter pandas sympy nose\n",
    "for installing scikit-learn\n",
    "(>>) pip install -U scikit-learn\n",
    "for installing seaborn\n",
    "(>>) pip install seaborn\n"
   ]
  },
  {
   "cell_type": "code",
   "execution_count": null,
   "metadata": {},
   "outputs": [],
   "source": []
  },
  {
   "cell_type": "markdown",
   "metadata": {},
   "source": [
    "## run the following command on jupyter to see all libraries are installed"
   ]
  },
  {
   "cell_type": "code",
   "execution_count": 1,
   "metadata": {},
   "outputs": [
    {
     "name": "stdout",
     "output_type": "stream",
     "text": [
      "IPython: 7.18.1\n",
      "numpy: 1.19.4\n",
      "scipy: 1.6.1\n",
      "matplotlib: 3.3.3\n",
      "scikit-learn: 0.24.1\n",
      "seaborn 0.11.1\n"
     ]
    }
   ],
   "source": [
    "from __future__ import print_function\n",
    "\n",
    "import IPython\n",
    "print('IPython:', IPython.__version__)\n",
    "\n",
    "import numpy\n",
    "print('numpy:', numpy.__version__)\n",
    "\n",
    "import scipy\n",
    "print('scipy:', scipy.__version__)\n",
    "\n",
    "import matplotlib\n",
    "print('matplotlib:', matplotlib.__version__)\n",
    "\n",
    "import sklearn\n",
    "print('scikit-learn:', sklearn.__version__)\n",
    "\n",
    "import seaborn\n",
    "print('seaborn', seaborn.__version__)"
   ]
  }
 ],
 "metadata": {
  "kernelspec": {
   "display_name": "Python 3",
   "language": "python",
   "name": "python3"
  },
  "language_info": {
   "codemirror_mode": {
    "name": "ipython",
    "version": 3
   },
   "file_extension": ".py",
   "mimetype": "text/x-python",
   "name": "python",
   "nbconvert_exporter": "python",
   "pygments_lexer": "ipython3",
   "version": "3.8.5"
  }
 },
 "nbformat": 4,
 "nbformat_minor": 4
}
